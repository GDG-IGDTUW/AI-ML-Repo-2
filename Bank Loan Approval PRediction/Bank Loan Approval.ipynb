{
  "cells": [
    {
      "cell_type": "markdown",
      "id": "cathedral-nightlife",
      "metadata": {
        "id": "cathedral-nightlife"
      },
      "source": [
        "# Bank Loan Approval Prediction using Artificial Neural Network"
      ]
    },
    {
      "cell_type": "markdown",
      "id": "maritime-marketing",
      "metadata": {
        "id": "maritime-marketing"
      },
      "source": [
        "In this project, we will build and train a deep neural network model to predict the likelyhood of a liability customer buying personal loans based on customer features."
      ]
    },
    {
      "cell_type": "code",
      "execution_count": 2,
      "id": "olive-lease",
      "metadata": {
        "id": "olive-lease"
      },
      "outputs": [],
      "source": [
        "import pandas as pd\n",
        "import matplotlib.pyplot as plt\n",
        "import numpy as np\n",
        "import seaborn as sns\n",
        "\n",
        "import tensorflow as tf\n",
        "from tensorflow import keras\n",
        "from tensorflow.keras.layers import Dense, Activation, Dropout\n",
        "from tensorflow.keras.optimizers import Adam\n",
        "from tensorflow.keras.metrics import Accuracy\n",
        "import matplotlib.pyplot as plt"
      ]
    },
    {
      "cell_type": "code",
      "execution_count": 3,
      "id": "recreational-direction",
      "metadata": {
        "id": "recreational-direction"
      },
      "outputs": [],
      "source": [
        "bank_df = pd.read_csv(\"UniversalBank.csv\")"
      ]
    },
    {
      "cell_type": "code",
      "execution_count": 3,
      "id": "unable-sphere",
      "metadata": {
        "id": "unable-sphere",
        "outputId": "6c6406c9-5be7-4440-8cb9-a836883af359"
      },
      "outputs": [
        {
          "data": {
            "text/html": [
              "<div>\n",
              "<style scoped>\n",
              "    .dataframe tbody tr th:only-of-type {\n",
              "        vertical-align: middle;\n",
              "    }\n",
              "\n",
              "    .dataframe tbody tr th {\n",
              "        vertical-align: top;\n",
              "    }\n",
              "\n",
              "    .dataframe thead th {\n",
              "        text-align: right;\n",
              "    }\n",
              "</style>\n",
              "<table border=\"1\" class=\"dataframe\">\n",
              "  <thead>\n",
              "    <tr style=\"text-align: right;\">\n",
              "      <th></th>\n",
              "      <th>ID</th>\n",
              "      <th>Age</th>\n",
              "      <th>Experience</th>\n",
              "      <th>Income</th>\n",
              "      <th>ZIP Code</th>\n",
              "      <th>Family</th>\n",
              "      <th>CCAvg</th>\n",
              "      <th>Education</th>\n",
              "      <th>Mortgage</th>\n",
              "      <th>Personal Loan</th>\n",
              "      <th>Securities Account</th>\n",
              "      <th>CD Account</th>\n",
              "      <th>Online</th>\n",
              "      <th>CreditCard</th>\n",
              "    </tr>\n",
              "  </thead>\n",
              "  <tbody>\n",
              "    <tr>\n",
              "      <th>0</th>\n",
              "      <td>1</td>\n",
              "      <td>25</td>\n",
              "      <td>1</td>\n",
              "      <td>49</td>\n",
              "      <td>91107</td>\n",
              "      <td>4</td>\n",
              "      <td>1.6</td>\n",
              "      <td>1</td>\n",
              "      <td>0</td>\n",
              "      <td>0</td>\n",
              "      <td>1</td>\n",
              "      <td>0</td>\n",
              "      <td>0</td>\n",
              "      <td>0</td>\n",
              "    </tr>\n",
              "    <tr>\n",
              "      <th>1</th>\n",
              "      <td>2</td>\n",
              "      <td>45</td>\n",
              "      <td>19</td>\n",
              "      <td>34</td>\n",
              "      <td>90089</td>\n",
              "      <td>3</td>\n",
              "      <td>1.5</td>\n",
              "      <td>1</td>\n",
              "      <td>0</td>\n",
              "      <td>0</td>\n",
              "      <td>1</td>\n",
              "      <td>0</td>\n",
              "      <td>0</td>\n",
              "      <td>0</td>\n",
              "    </tr>\n",
              "    <tr>\n",
              "      <th>2</th>\n",
              "      <td>3</td>\n",
              "      <td>39</td>\n",
              "      <td>15</td>\n",
              "      <td>11</td>\n",
              "      <td>94720</td>\n",
              "      <td>1</td>\n",
              "      <td>1.0</td>\n",
              "      <td>1</td>\n",
              "      <td>0</td>\n",
              "      <td>0</td>\n",
              "      <td>0</td>\n",
              "      <td>0</td>\n",
              "      <td>0</td>\n",
              "      <td>0</td>\n",
              "    </tr>\n",
              "    <tr>\n",
              "      <th>3</th>\n",
              "      <td>4</td>\n",
              "      <td>35</td>\n",
              "      <td>9</td>\n",
              "      <td>100</td>\n",
              "      <td>94112</td>\n",
              "      <td>1</td>\n",
              "      <td>2.7</td>\n",
              "      <td>2</td>\n",
              "      <td>0</td>\n",
              "      <td>0</td>\n",
              "      <td>0</td>\n",
              "      <td>0</td>\n",
              "      <td>0</td>\n",
              "      <td>0</td>\n",
              "    </tr>\n",
              "    <tr>\n",
              "      <th>4</th>\n",
              "      <td>5</td>\n",
              "      <td>35</td>\n",
              "      <td>8</td>\n",
              "      <td>45</td>\n",
              "      <td>91330</td>\n",
              "      <td>4</td>\n",
              "      <td>1.0</td>\n",
              "      <td>2</td>\n",
              "      <td>0</td>\n",
              "      <td>0</td>\n",
              "      <td>0</td>\n",
              "      <td>0</td>\n",
              "      <td>0</td>\n",
              "      <td>1</td>\n",
              "    </tr>\n",
              "  </tbody>\n",
              "</table>\n",
              "</div>"
            ],
            "text/plain": [
              "   ID  Age  Experience  Income  ZIP Code  Family  CCAvg  Education  Mortgage  \\\n",
              "0   1   25           1      49     91107       4    1.6          1         0   \n",
              "1   2   45          19      34     90089       3    1.5          1         0   \n",
              "2   3   39          15      11     94720       1    1.0          1         0   \n",
              "3   4   35           9     100     94112       1    2.7          2         0   \n",
              "4   5   35           8      45     91330       4    1.0          2         0   \n",
              "\n",
              "   Personal Loan  Securities Account  CD Account  Online  CreditCard  \n",
              "0              0                   1           0       0           0  \n",
              "1              0                   1           0       0           0  \n",
              "2              0                   0           0       0           0  \n",
              "3              0                   0           0       0           0  \n",
              "4              0                   0           0       0           1  "
            ]
          },
          "execution_count": 3,
          "metadata": {},
          "output_type": "execute_result"
        }
      ],
      "source": [
        "bank_df.head()"
      ]
    },
    {
      "cell_type": "code",
      "execution_count": 5,
      "id": "quiet-pittsburgh",
      "metadata": {
        "id": "quiet-pittsburgh",
        "outputId": "93aca46b-1aa9-4e23-9364-09f9e76d6ca4"
      },
      "outputs": [
        {
          "data": {
            "text/plain": [
              "(5000, 14)"
            ]
          },
          "execution_count": 5,
          "metadata": {},
          "output_type": "execute_result"
        }
      ],
      "source": [
        "bank_df.shape"
      ]
    },
    {
      "cell_type": "markdown",
      "id": "framed-strain",
      "metadata": {
        "id": "framed-strain"
      },
      "source": [
        "- ID: Customer ID\n",
        "- Age: Customer Age\n",
        "- Experience: Amount of work experience in years\n",
        "- Income: Amount of annual income (in thousands)\n",
        "- Zipcode: Zipcode of where customer lives\n",
        "- Family: Number of family members\n",
        "- CCAvg: Average monthly credit card spendings\n",
        "- Education: Education level (1: Bachelor, 2: Master, 3: Advanced Degree)\n",
        "- Mortgage: Mortgage of house (in thousands)\n",
        "- Securities Account: Boolean of whether customer has a securities account\n",
        "- CD Account: Boolean of whether customer has Certificate of Deposit account\n",
        "- Online: Boolean of whether customer uses online banking\n",
        "- CreditCard: Does the customer use credit card issued by the bank?\n",
        "- Personal Loan: This is the target variable (Binary Classification Problem)"
      ]
    },
    {
      "cell_type": "markdown",
      "id": "opening-shock",
      "metadata": {
        "id": "opening-shock"
      },
      "source": [
        "## Exploratory Data Analysis"
      ]
    },
    {
      "cell_type": "code",
      "execution_count": 6,
      "id": "separated-arthur",
      "metadata": {
        "id": "separated-arthur",
        "outputId": "5492212c-0b39-49bf-90f8-8cf52b333770"
      },
      "outputs": [
        {
          "name": "stdout",
          "output_type": "stream",
          "text": [
            "<class 'pandas.core.frame.DataFrame'>\n",
            "RangeIndex: 5000 entries, 0 to 4999\n",
            "Data columns (total 14 columns):\n",
            " #   Column              Non-Null Count  Dtype  \n",
            "---  ------              --------------  -----  \n",
            " 0   ID                  5000 non-null   int64  \n",
            " 1   Age                 5000 non-null   int64  \n",
            " 2   Experience          5000 non-null   int64  \n",
            " 3   Income              5000 non-null   int64  \n",
            " 4   ZIP Code            5000 non-null   int64  \n",
            " 5   Family              5000 non-null   int64  \n",
            " 6   CCAvg               5000 non-null   float64\n",
            " 7   Education           5000 non-null   int64  \n",
            " 8   Mortgage            5000 non-null   int64  \n",
            " 9   Personal Loan       5000 non-null   int64  \n",
            " 10  Securities Account  5000 non-null   int64  \n",
            " 11  CD Account          5000 non-null   int64  \n",
            " 12  Online              5000 non-null   int64  \n",
            " 13  CreditCard          5000 non-null   int64  \n",
            "dtypes: float64(1), int64(13)\n",
            "memory usage: 547.0 KB\n"
          ]
        }
      ],
      "source": [
        "bank_df.info()"
      ]
    },
    {
      "cell_type": "code",
      "execution_count": 7,
      "id": "religious-seeking",
      "metadata": {
        "id": "religious-seeking",
        "outputId": "9d9a7038-60ae-4609-8324-066246813b20"
      },
      "outputs": [
        {
          "data": {
            "text/html": [
              "<div>\n",
              "<style scoped>\n",
              "    .dataframe tbody tr th:only-of-type {\n",
              "        vertical-align: middle;\n",
              "    }\n",
              "\n",
              "    .dataframe tbody tr th {\n",
              "        vertical-align: top;\n",
              "    }\n",
              "\n",
              "    .dataframe thead th {\n",
              "        text-align: right;\n",
              "    }\n",
              "</style>\n",
              "<table border=\"1\" class=\"dataframe\">\n",
              "  <thead>\n",
              "    <tr style=\"text-align: right;\">\n",
              "      <th></th>\n",
              "      <th>count</th>\n",
              "      <th>mean</th>\n",
              "      <th>std</th>\n",
              "      <th>min</th>\n",
              "      <th>25%</th>\n",
              "      <th>50%</th>\n",
              "      <th>75%</th>\n",
              "      <th>max</th>\n",
              "    </tr>\n",
              "  </thead>\n",
              "  <tbody>\n",
              "    <tr>\n",
              "      <th>ID</th>\n",
              "      <td>5000.0</td>\n",
              "      <td>2500.500000</td>\n",
              "      <td>1443.520003</td>\n",
              "      <td>1.0</td>\n",
              "      <td>1250.75</td>\n",
              "      <td>2500.5</td>\n",
              "      <td>3750.25</td>\n",
              "      <td>5000.0</td>\n",
              "    </tr>\n",
              "    <tr>\n",
              "      <th>Age</th>\n",
              "      <td>5000.0</td>\n",
              "      <td>45.338400</td>\n",
              "      <td>11.463166</td>\n",
              "      <td>23.0</td>\n",
              "      <td>35.00</td>\n",
              "      <td>45.0</td>\n",
              "      <td>55.00</td>\n",
              "      <td>67.0</td>\n",
              "    </tr>\n",
              "    <tr>\n",
              "      <th>Experience</th>\n",
              "      <td>5000.0</td>\n",
              "      <td>20.104600</td>\n",
              "      <td>11.467954</td>\n",
              "      <td>-3.0</td>\n",
              "      <td>10.00</td>\n",
              "      <td>20.0</td>\n",
              "      <td>30.00</td>\n",
              "      <td>43.0</td>\n",
              "    </tr>\n",
              "    <tr>\n",
              "      <th>Income</th>\n",
              "      <td>5000.0</td>\n",
              "      <td>73.774200</td>\n",
              "      <td>46.033729</td>\n",
              "      <td>8.0</td>\n",
              "      <td>39.00</td>\n",
              "      <td>64.0</td>\n",
              "      <td>98.00</td>\n",
              "      <td>224.0</td>\n",
              "    </tr>\n",
              "    <tr>\n",
              "      <th>ZIP Code</th>\n",
              "      <td>5000.0</td>\n",
              "      <td>93152.503000</td>\n",
              "      <td>2121.852197</td>\n",
              "      <td>9307.0</td>\n",
              "      <td>91911.00</td>\n",
              "      <td>93437.0</td>\n",
              "      <td>94608.00</td>\n",
              "      <td>96651.0</td>\n",
              "    </tr>\n",
              "    <tr>\n",
              "      <th>Family</th>\n",
              "      <td>5000.0</td>\n",
              "      <td>2.396400</td>\n",
              "      <td>1.147663</td>\n",
              "      <td>1.0</td>\n",
              "      <td>1.00</td>\n",
              "      <td>2.0</td>\n",
              "      <td>3.00</td>\n",
              "      <td>4.0</td>\n",
              "    </tr>\n",
              "    <tr>\n",
              "      <th>CCAvg</th>\n",
              "      <td>5000.0</td>\n",
              "      <td>1.937938</td>\n",
              "      <td>1.747659</td>\n",
              "      <td>0.0</td>\n",
              "      <td>0.70</td>\n",
              "      <td>1.5</td>\n",
              "      <td>2.50</td>\n",
              "      <td>10.0</td>\n",
              "    </tr>\n",
              "    <tr>\n",
              "      <th>Education</th>\n",
              "      <td>5000.0</td>\n",
              "      <td>1.881000</td>\n",
              "      <td>0.839869</td>\n",
              "      <td>1.0</td>\n",
              "      <td>1.00</td>\n",
              "      <td>2.0</td>\n",
              "      <td>3.00</td>\n",
              "      <td>3.0</td>\n",
              "    </tr>\n",
              "    <tr>\n",
              "      <th>Mortgage</th>\n",
              "      <td>5000.0</td>\n",
              "      <td>56.498800</td>\n",
              "      <td>101.713802</td>\n",
              "      <td>0.0</td>\n",
              "      <td>0.00</td>\n",
              "      <td>0.0</td>\n",
              "      <td>101.00</td>\n",
              "      <td>635.0</td>\n",
              "    </tr>\n",
              "    <tr>\n",
              "      <th>Personal Loan</th>\n",
              "      <td>5000.0</td>\n",
              "      <td>0.096000</td>\n",
              "      <td>0.294621</td>\n",
              "      <td>0.0</td>\n",
              "      <td>0.00</td>\n",
              "      <td>0.0</td>\n",
              "      <td>0.00</td>\n",
              "      <td>1.0</td>\n",
              "    </tr>\n",
              "    <tr>\n",
              "      <th>Securities Account</th>\n",
              "      <td>5000.0</td>\n",
              "      <td>0.104400</td>\n",
              "      <td>0.305809</td>\n",
              "      <td>0.0</td>\n",
              "      <td>0.00</td>\n",
              "      <td>0.0</td>\n",
              "      <td>0.00</td>\n",
              "      <td>1.0</td>\n",
              "    </tr>\n",
              "    <tr>\n",
              "      <th>CD Account</th>\n",
              "      <td>5000.0</td>\n",
              "      <td>0.060400</td>\n",
              "      <td>0.238250</td>\n",
              "      <td>0.0</td>\n",
              "      <td>0.00</td>\n",
              "      <td>0.0</td>\n",
              "      <td>0.00</td>\n",
              "      <td>1.0</td>\n",
              "    </tr>\n",
              "    <tr>\n",
              "      <th>Online</th>\n",
              "      <td>5000.0</td>\n",
              "      <td>0.596800</td>\n",
              "      <td>0.490589</td>\n",
              "      <td>0.0</td>\n",
              "      <td>0.00</td>\n",
              "      <td>1.0</td>\n",
              "      <td>1.00</td>\n",
              "      <td>1.0</td>\n",
              "    </tr>\n",
              "    <tr>\n",
              "      <th>CreditCard</th>\n",
              "      <td>5000.0</td>\n",
              "      <td>0.294000</td>\n",
              "      <td>0.455637</td>\n",
              "      <td>0.0</td>\n",
              "      <td>0.00</td>\n",
              "      <td>0.0</td>\n",
              "      <td>1.00</td>\n",
              "      <td>1.0</td>\n",
              "    </tr>\n",
              "  </tbody>\n",
              "</table>\n",
              "</div>"
            ],
            "text/plain": [
              "                     count          mean          std     min       25%  \\\n",
              "ID                  5000.0   2500.500000  1443.520003     1.0   1250.75   \n",
              "Age                 5000.0     45.338400    11.463166    23.0     35.00   \n",
              "Experience          5000.0     20.104600    11.467954    -3.0     10.00   \n",
              "Income              5000.0     73.774200    46.033729     8.0     39.00   \n",
              "ZIP Code            5000.0  93152.503000  2121.852197  9307.0  91911.00   \n",
              "Family              5000.0      2.396400     1.147663     1.0      1.00   \n",
              "CCAvg               5000.0      1.937938     1.747659     0.0      0.70   \n",
              "Education           5000.0      1.881000     0.839869     1.0      1.00   \n",
              "Mortgage            5000.0     56.498800   101.713802     0.0      0.00   \n",
              "Personal Loan       5000.0      0.096000     0.294621     0.0      0.00   \n",
              "Securities Account  5000.0      0.104400     0.305809     0.0      0.00   \n",
              "CD Account          5000.0      0.060400     0.238250     0.0      0.00   \n",
              "Online              5000.0      0.596800     0.490589     0.0      0.00   \n",
              "CreditCard          5000.0      0.294000     0.455637     0.0      0.00   \n",
              "\n",
              "                        50%       75%      max  \n",
              "ID                   2500.5   3750.25   5000.0  \n",
              "Age                    45.0     55.00     67.0  \n",
              "Experience             20.0     30.00     43.0  \n",
              "Income                 64.0     98.00    224.0  \n",
              "ZIP Code            93437.0  94608.00  96651.0  \n",
              "Family                  2.0      3.00      4.0  \n",
              "CCAvg                   1.5      2.50     10.0  \n",
              "Education               2.0      3.00      3.0  \n",
              "Mortgage                0.0    101.00    635.0  \n",
              "Personal Loan           0.0      0.00      1.0  \n",
              "Securities Account      0.0      0.00      1.0  \n",
              "CD Account              0.0      0.00      1.0  \n",
              "Online                  1.0      1.00      1.0  \n",
              "CreditCard              0.0      1.00      1.0  "
            ]
          },
          "execution_count": 7,
          "metadata": {},
          "output_type": "execute_result"
        }
      ],
      "source": [
        "bank_df.describe().transpose()"
      ]
    },
    {
      "cell_type": "code",
      "execution_count": 8,
      "id": "applied-dayton",
      "metadata": {
        "id": "applied-dayton",
        "outputId": "1d86546d-2fce-4afd-b9ed-37b79ac8f1a5"
      },
      "outputs": [
        {
          "data": {
            "text/plain": [
              "ID                    0\n",
              "Age                   0\n",
              "Experience            0\n",
              "Income                0\n",
              "ZIP Code              0\n",
              "Family                0\n",
              "CCAvg                 0\n",
              "Education             0\n",
              "Mortgage              0\n",
              "Personal Loan         0\n",
              "Securities Account    0\n",
              "CD Account            0\n",
              "Online                0\n",
              "CreditCard            0\n",
              "dtype: int64"
            ]
          },
          "execution_count": 8,
          "metadata": {},
          "output_type": "execute_result"
        }
      ],
      "source": [
        "# check missing values\n",
        "bank_df.isnull().sum()"
      ]
    },
    {
      "cell_type": "markdown",
      "id": "injured-bumper",
      "metadata": {
        "id": "injured-bumper"
      },
      "source": [
        "Great, we have no missing values!"
      ]
    },
    {
      "cell_type": "code",
      "execution_count": 9,
      "id": "adopted-olympus",
      "metadata": {
        "id": "adopted-olympus",
        "outputId": "7feb3331-5442-4c37-f746-1f2e747fe3c8"
      },
      "outputs": [
        {
          "name": "stdout",
          "output_type": "stream",
          "text": [
            "The average age of this dataset is 45.3.\n"
          ]
        }
      ],
      "source": [
        "avg_age = bank_df[\"Age\"].mean()\n",
        "print (\"The average age of this dataset is {:.1f}.\".format(avg_age))"
      ]
    },
    {
      "cell_type": "code",
      "execution_count": 10,
      "id": "adjusted-birmingham",
      "metadata": {
        "id": "adjusted-birmingham",
        "outputId": "abadd914-17ee-4b33-cc93-55525006c2fe"
      },
      "outputs": [
        {
          "name": "stdout",
          "output_type": "stream",
          "text": [
            "The percentage of customers that own the bank's credit card is 29.40%.\n"
          ]
        }
      ],
      "source": [
        "percent_cc = sum(bank_df[\"CreditCard\"] == 1)/len(bank_df)\n",
        "print (\"The percentage of customers that own the bank's credit card is {:.2%}.\".format(percent_cc))"
      ]
    },
    {
      "cell_type": "code",
      "execution_count": 11,
      "id": "fiscal-ghana",
      "metadata": {
        "id": "fiscal-ghana",
        "outputId": "5c5aa336-90cd-4213-f03b-bcaf5d98776c"
      },
      "outputs": [
        {
          "name": "stdout",
          "output_type": "stream",
          "text": [
            "The percentage of customers that took out a personal loan is 9.60%.\n"
          ]
        }
      ],
      "source": [
        "percent_loan = sum(bank_df[\"Personal Loan\"] == 1)/len(bank_df)\n",
        "print (\"The percentage of customers that took out a personal loan is {:.2%}.\".format(percent_loan))"
      ]
    },
    {
      "cell_type": "markdown",
      "id": "distinct-filename",
      "metadata": {
        "id": "distinct-filename"
      },
      "source": [
        "## Data Visualization"
      ]
    },
    {
      "cell_type": "code",
      "execution_count": 14,
      "id": "799e0ac2",
      "metadata": {},
      "outputs": [
        {
          "data": {
            "text/plain": [
              "(array([0, 1]), array([4520,  480]))"
            ]
          },
          "execution_count": 14,
          "metadata": {},
          "output_type": "execute_result"
        }
      ],
      "source": [
        "np.unique(bank_df['Personal Loan'], return_counts=True)"
      ]
    },
    {
      "cell_type": "code",
      "execution_count": 16,
      "id": "proprietary-liverpool",
      "metadata": {
        "id": "proprietary-liverpool"
      },
      "outputs": [
        {
          "data": {
            "image/png": "[encoded data removed]",
            "text/plain": [
              "<Figure size 640x480 with 1 Axes>"
            ]
          },
          "metadata": {},
          "output_type": "display_data"
        }
      ],
      "source": [
        "#ISSUE_1 - visualize countplot in sns for personal loan, education, credit card & age\n",
        "\n",
        "#personal loan\n",
        "sns.countplot(x=bank_df['Personal Loan'])\n",
        "plt.show()"
      ]
    },
    {
      "cell_type": "code",
      "execution_count": 17,
      "id": "70b7cda7",
      "metadata": {},
      "outputs": [
        {
          "data": {
            "text/plain": [
              "(array([1, 2, 3]), array([2096, 1403, 1501]))"
            ]
          },
          "execution_count": 17,
          "metadata": {},
          "output_type": "execute_result"
        }
      ],
      "source": [
        "np.unique(bank_df['Education'], return_counts = True)"
      ]
    },
    {
      "cell_type": "code",
      "execution_count": 18,
      "id": "33e3fe5f",
      "metadata": {
        "id": "33e3fe5f"
      },
      "outputs": [
        {
          "data": {
            "image/png": "[encoded data removed]",
            "text/plain": [
              "<Figure size 640x480 with 1 Axes>"
            ]
          },
          "metadata": {},
          "output_type": "display_data"
        }
      ],
      "source": [
        "#education\n",
        "sns.countplot(x = bank_df['Education'])\n",
        "plt.show()"
      ]
    },
    {
      "cell_type": "code",
      "execution_count": 19,
      "id": "2f40ab5d",
      "metadata": {},
      "outputs": [
        {
          "data": {
            "text/plain": [
              "(array([0, 1]), array([3530, 1470]))"
            ]
          },
          "execution_count": 19,
          "metadata": {},
          "output_type": "execute_result"
        }
      ],
      "source": [
        "np.unique(bank_df['CreditCard'], return_counts=True)"
      ]
    },
    {
      "cell_type": "code",
      "execution_count": 20,
      "id": "eaf499c5",
      "metadata": {
        "id": "eaf499c5"
      },
      "outputs": [
        {
          "data": {
            "text/plain": [
              "<Axes: xlabel='CreditCard', ylabel='count'>"
            ]
          },
          "execution_count": 20,
          "metadata": {},
          "output_type": "execute_result"
        },
        {
          "data": {
            "image/png": "[encoded data removed]",
            "text/plain": [
              "<Figure size 640x480 with 1 Axes>"
            ]
          },
          "metadata": {},
          "output_type": "display_data"
        }
      ],
      "source": [
        "#credit card\n",
        "sns.countplot(x = bank_df['CreditCard'])"
      ]
    },
    {
      "cell_type": "code",
      "execution_count": 32,
      "id": "5bf41e48",
      "metadata": {
        "id": "5bf41e48"
      },
      "outputs": [
        {
          "data": {
            "image/png": "[encoded data removed]",
            "text/plain": [
              "<Figure size 640x480 with 1 Axes>"
            ]
          },
          "metadata": {},
          "output_type": "display_data"
        }
      ],
      "source": [
        "#age\n",
        "\n",
        "# age bins and labels\n",
        "bins = [0, 10, 20, 30, 40, 50, 60, 70, 80, 90, 100]\n",
        "labels = ['0-9', '10-19', '20-29', '30-39', '40-49', '50-59', '60-69', '70-79', '80-89', '90-100']\n",
        "age_column_bins = pd.cut(bank_df['Age'], bins=bins, labels=labels, right=False)\n",
        "sns.countplot(x=age_column_bins)\n",
        "plt.title('Age Distribution by Group')\n",
        "plt.xlabel('Age Group')\n",
        "plt.ylabel('Count')\n",
        "plt.show()\n"
      ]
    },
    {
      "cell_type": "code",
      "execution_count": 5,
      "id": "bright-temperature",
      "metadata": {
        "id": "bright-temperature",
        "outputId": "5b0975e0-9951-423a-ab47-58a3be4caf27"
      },
      "outputs": [
        {
          "data": {
            "text/plain": [
              "<Figure size 1500x800 with 0 Axes>"
            ]
          },
          "metadata": {},
          "output_type": "display_data"
        },
        {
          "data": {
            "image/png": "[encoded data removed]",
            "text/plain": [
              "<Figure size 500x500 with 1 Axes>"
            ]
          },
          "metadata": {},
          "output_type": "display_data"
        }
      ],
      "source": [
        "# ISSUE_2 - distplot for distribution of the income\n",
        "plt.figure(figsize=(15,8))\n",
        "sns.displot(data = bank_df, x = \"Income\", kde = True)\n",
        "plt.title('Income Distribution')\n",
        "plt.xlabel('Annual Income (in thousands)')\n",
        "plt.savefig('Income.png', facecolor='w', bbox_inches='tight')\n",
        "plt.show()"
      ]
    },
    {
      "cell_type": "code",
      "execution_count": null,
      "id": "annoying-transport",
      "metadata": {
        "id": "annoying-transport"
      },
      "outputs": [],
      "source": [
        "# create 2 dataframes: one with personal loans and one without personal loans\n",
        "personal_loans = bank_df[bank_df['Personal Loan'] == 1].copy()\n",
        "no_personal_loans = bank_df[bank_df['Personal Loan'] == 0].copy()"
      ]
    },
    {
      "cell_type": "code",
      "execution_count": null,
      "id": "heard-layer",
      "metadata": {
        "id": "heard-layer",
        "outputId": "e6e225e3-94f4-4f22-8034-b1a8a977b698"
      },
      "outputs": [
        {
          "data": {
            "text/html": [
              "<div>\n",
              "<style scoped>\n",
              "    .dataframe tbody tr th:only-of-type {\n",
              "        vertical-align: middle;\n",
              "    }\n",
              "\n",
              "    .dataframe tbody tr th {\n",
              "        vertical-align: top;\n",
              "    }\n",
              "\n",
              "    .dataframe thead th {\n",
              "        text-align: right;\n",
              "    }\n",
              "</style>\n",
              "<table border=\"1\" class=\"dataframe\">\n",
              "  <thead>\n",
              "    <tr style=\"text-align: right;\">\n",
              "      <th></th>\n",
              "      <th>count</th>\n",
              "      <th>mean</th>\n",
              "      <th>std</th>\n",
              "      <th>min</th>\n",
              "      <th>25%</th>\n",
              "      <th>50%</th>\n",
              "      <th>75%</th>\n",
              "      <th>max</th>\n",
              "    </tr>\n",
              "  </thead>\n",
              "  <tbody>\n",
              "    <tr>\n",
              "      <th>ID</th>\n",
              "      <td>480.0</td>\n",
              "      <td>2390.650000</td>\n",
              "      <td>1394.393674</td>\n",
              "      <td>10.0</td>\n",
              "      <td>1166.50</td>\n",
              "      <td>2342.0</td>\n",
              "      <td>3566.0000</td>\n",
              "      <td>4981.0</td>\n",
              "    </tr>\n",
              "    <tr>\n",
              "      <th>Age</th>\n",
              "      <td>480.0</td>\n",
              "      <td>45.066667</td>\n",
              "      <td>11.590964</td>\n",
              "      <td>26.0</td>\n",
              "      <td>35.00</td>\n",
              "      <td>45.0</td>\n",
              "      <td>55.0000</td>\n",
              "      <td>65.0</td>\n",
              "    </tr>\n",
              "    <tr>\n",
              "      <th>Experience</th>\n",
              "      <td>480.0</td>\n",
              "      <td>19.843750</td>\n",
              "      <td>11.582443</td>\n",
              "      <td>0.0</td>\n",
              "      <td>9.00</td>\n",
              "      <td>20.0</td>\n",
              "      <td>30.0000</td>\n",
              "      <td>41.0</td>\n",
              "    </tr>\n",
              "    <tr>\n",
              "      <th>Income</th>\n",
              "      <td>480.0</td>\n",
              "      <td>144.745833</td>\n",
              "      <td>31.584429</td>\n",
              "      <td>60.0</td>\n",
              "      <td>122.00</td>\n",
              "      <td>142.5</td>\n",
              "      <td>172.0000</td>\n",
              "      <td>203.0</td>\n",
              "    </tr>\n",
              "    <tr>\n",
              "      <th>ZIP Code</th>\n",
              "      <td>480.0</td>\n",
              "      <td>93153.202083</td>\n",
              "      <td>1759.223753</td>\n",
              "      <td>90016.0</td>\n",
              "      <td>91908.75</td>\n",
              "      <td>93407.0</td>\n",
              "      <td>94705.5000</td>\n",
              "      <td>96008.0</td>\n",
              "    </tr>\n",
              "    <tr>\n",
              "      <th>Family</th>\n",
              "      <td>480.0</td>\n",
              "      <td>2.612500</td>\n",
              "      <td>1.115393</td>\n",
              "      <td>1.0</td>\n",
              "      <td>2.00</td>\n",
              "      <td>3.0</td>\n",
              "      <td>4.0000</td>\n",
              "      <td>4.0</td>\n",
              "    </tr>\n",
              "    <tr>\n",
              "      <th>CCAvg</th>\n",
              "      <td>480.0</td>\n",
              "      <td>3.905354</td>\n",
              "      <td>2.097681</td>\n",
              "      <td>0.0</td>\n",
              "      <td>2.60</td>\n",
              "      <td>3.8</td>\n",
              "      <td>5.3475</td>\n",
              "      <td>10.0</td>\n",
              "    </tr>\n",
              "    <tr>\n",
              "      <th>Education</th>\n",
              "      <td>480.0</td>\n",
              "      <td>2.233333</td>\n",
              "      <td>0.753373</td>\n",
              "      <td>1.0</td>\n",
              "      <td>2.00</td>\n",
              "      <td>2.0</td>\n",
              "      <td>3.0000</td>\n",
              "      <td>3.0</td>\n",
              "    </tr>\n",
              "    <tr>\n",
              "      <th>Mortgage</th>\n",
              "      <td>480.0</td>\n",
              "      <td>100.845833</td>\n",
              "      <td>160.847862</td>\n",
              "      <td>0.0</td>\n",
              "      <td>0.00</td>\n",
              "      <td>0.0</td>\n",
              "      <td>192.5000</td>\n",
              "      <td>617.0</td>\n",
              "    </tr>\n",
              "    <tr>\n",
              "      <th>Personal Loan</th>\n",
              "      <td>480.0</td>\n",
              "      <td>1.000000</td>\n",
              "      <td>0.000000</td>\n",
              "      <td>1.0</td>\n",
              "      <td>1.00</td>\n",
              "      <td>1.0</td>\n",
              "      <td>1.0000</td>\n",
              "      <td>1.0</td>\n",
              "    </tr>\n",
              "    <tr>\n",
              "      <th>Securities Account</th>\n",
              "      <td>480.0</td>\n",
              "      <td>0.125000</td>\n",
              "      <td>0.331064</td>\n",
              "      <td>0.0</td>\n",
              "      <td>0.00</td>\n",
              "      <td>0.0</td>\n",
              "      <td>0.0000</td>\n",
              "      <td>1.0</td>\n",
              "    </tr>\n",
              "    <tr>\n",
              "      <th>CD Account</th>\n",
              "      <td>480.0</td>\n",
              "      <td>0.291667</td>\n",
              "      <td>0.455004</td>\n",
              "      <td>0.0</td>\n",
              "      <td>0.00</td>\n",
              "      <td>0.0</td>\n",
              "      <td>1.0000</td>\n",
              "      <td>1.0</td>\n",
              "    </tr>\n",
              "    <tr>\n",
              "      <th>Online</th>\n",
              "      <td>480.0</td>\n",
              "      <td>0.606250</td>\n",
              "      <td>0.489090</td>\n",
              "      <td>0.0</td>\n",
              "      <td>0.00</td>\n",
              "      <td>1.0</td>\n",
              "      <td>1.0000</td>\n",
              "      <td>1.0</td>\n",
              "    </tr>\n",
              "    <tr>\n",
              "      <th>CreditCard</th>\n",
              "      <td>480.0</td>\n",
              "      <td>0.297917</td>\n",
              "      <td>0.457820</td>\n",
              "      <td>0.0</td>\n",
              "      <td>0.00</td>\n",
              "      <td>0.0</td>\n",
              "      <td>1.0000</td>\n",
              "      <td>1.0</td>\n",
              "    </tr>\n",
              "  </tbody>\n",
              "</table>\n",
              "</div>"
            ],
            "text/plain": [
              "                    count          mean          std      min       25%  \\\n",
              "ID                  480.0   2390.650000  1394.393674     10.0   1166.50   \n",
              "Age                 480.0     45.066667    11.590964     26.0     35.00   \n",
              "Experience          480.0     19.843750    11.582443      0.0      9.00   \n",
              "Income              480.0    144.745833    31.584429     60.0    122.00   \n",
              "ZIP Code            480.0  93153.202083  1759.223753  90016.0  91908.75   \n",
              "Family              480.0      2.612500     1.115393      1.0      2.00   \n",
              "CCAvg               480.0      3.905354     2.097681      0.0      2.60   \n",
              "Education           480.0      2.233333     0.753373      1.0      2.00   \n",
              "Mortgage            480.0    100.845833   160.847862      0.0      0.00   \n",
              "Personal Loan       480.0      1.000000     0.000000      1.0      1.00   \n",
              "Securities Account  480.0      0.125000     0.331064      0.0      0.00   \n",
              "CD Account          480.0      0.291667     0.455004      0.0      0.00   \n",
              "Online              480.0      0.606250     0.489090      0.0      0.00   \n",
              "CreditCard          480.0      0.297917     0.457820      0.0      0.00   \n",
              "\n",
              "                        50%         75%      max  \n",
              "ID                   2342.0   3566.0000   4981.0  \n",
              "Age                    45.0     55.0000     65.0  \n",
              "Experience             20.0     30.0000     41.0  \n",
              "Income                142.5    172.0000    203.0  \n",
              "ZIP Code            93407.0  94705.5000  96008.0  \n",
              "Family                  3.0      4.0000      4.0  \n",
              "CCAvg                   3.8      5.3475     10.0  \n",
              "Education               2.0      3.0000      3.0  \n",
              "Mortgage                0.0    192.5000    617.0  \n",
              "Personal Loan           1.0      1.0000      1.0  \n",
              "Securities Account      0.0      0.0000      1.0  \n",
              "CD Account              0.0      1.0000      1.0  \n",
              "Online                  1.0      1.0000      1.0  \n",
              "CreditCard              0.0      1.0000      1.0  "
            ]
          },
          "execution_count": 356,
          "metadata": {},
          "output_type": "execute_result"
        }
      ],
      "source": [
        "personal_loans.describe().T"
      ]
    },
    {
      "cell_type": "code",
      "execution_count": null,
      "id": "beneficial-tribute",
      "metadata": {
        "id": "beneficial-tribute",
        "outputId": "2c5644d3-5418-42cb-dfcb-d52a9970fd14"
      },
      "outputs": [
        {
          "data": {
            "text/html": [
              "<div>\n",
              "<style scoped>\n",
              "    .dataframe tbody tr th:only-of-type {\n",
              "        vertical-align: middle;\n",
              "    }\n",
              "\n",
              "    .dataframe tbody tr th {\n",
              "        vertical-align: top;\n",
              "    }\n",
              "\n",
              "    .dataframe thead th {\n",
              "        text-align: right;\n",
              "    }\n",
              "</style>\n",
              "<table border=\"1\" class=\"dataframe\">\n",
              "  <thead>\n",
              "    <tr style=\"text-align: right;\">\n",
              "      <th></th>\n",
              "      <th>count</th>\n",
              "      <th>mean</th>\n",
              "      <th>std</th>\n",
              "      <th>min</th>\n",
              "      <th>25%</th>\n",
              "      <th>50%</th>\n",
              "      <th>75%</th>\n",
              "      <th>max</th>\n",
              "    </tr>\n",
              "  </thead>\n",
              "  <tbody>\n",
              "    <tr>\n",
              "      <th>ID</th>\n",
              "      <td>4520.0</td>\n",
              "      <td>2512.165487</td>\n",
              "      <td>1448.299331</td>\n",
              "      <td>1.0</td>\n",
              "      <td>1259.75</td>\n",
              "      <td>2518.5</td>\n",
              "      <td>3768.25</td>\n",
              "      <td>5000.0</td>\n",
              "    </tr>\n",
              "    <tr>\n",
              "      <th>Age</th>\n",
              "      <td>4520.0</td>\n",
              "      <td>45.367257</td>\n",
              "      <td>11.450427</td>\n",
              "      <td>23.0</td>\n",
              "      <td>35.00</td>\n",
              "      <td>45.0</td>\n",
              "      <td>55.00</td>\n",
              "      <td>67.0</td>\n",
              "    </tr>\n",
              "    <tr>\n",
              "      <th>Experience</th>\n",
              "      <td>4520.0</td>\n",
              "      <td>20.132301</td>\n",
              "      <td>11.456672</td>\n",
              "      <td>-3.0</td>\n",
              "      <td>10.00</td>\n",
              "      <td>20.0</td>\n",
              "      <td>30.00</td>\n",
              "      <td>43.0</td>\n",
              "    </tr>\n",
              "    <tr>\n",
              "      <th>Income</th>\n",
              "      <td>4520.0</td>\n",
              "      <td>66.237389</td>\n",
              "      <td>40.578534</td>\n",
              "      <td>8.0</td>\n",
              "      <td>35.00</td>\n",
              "      <td>59.0</td>\n",
              "      <td>84.00</td>\n",
              "      <td>224.0</td>\n",
              "    </tr>\n",
              "    <tr>\n",
              "      <th>ZIP Code</th>\n",
              "      <td>4520.0</td>\n",
              "      <td>93152.428761</td>\n",
              "      <td>2156.949654</td>\n",
              "      <td>9307.0</td>\n",
              "      <td>91911.00</td>\n",
              "      <td>93437.0</td>\n",
              "      <td>94608.00</td>\n",
              "      <td>96651.0</td>\n",
              "    </tr>\n",
              "    <tr>\n",
              "      <th>Family</th>\n",
              "      <td>4520.0</td>\n",
              "      <td>2.373451</td>\n",
              "      <td>1.148771</td>\n",
              "      <td>1.0</td>\n",
              "      <td>1.00</td>\n",
              "      <td>2.0</td>\n",
              "      <td>3.00</td>\n",
              "      <td>4.0</td>\n",
              "    </tr>\n",
              "    <tr>\n",
              "      <th>CCAvg</th>\n",
              "      <td>4520.0</td>\n",
              "      <td>1.729009</td>\n",
              "      <td>1.567647</td>\n",
              "      <td>0.0</td>\n",
              "      <td>0.60</td>\n",
              "      <td>1.4</td>\n",
              "      <td>2.30</td>\n",
              "      <td>8.8</td>\n",
              "    </tr>\n",
              "    <tr>\n",
              "      <th>Education</th>\n",
              "      <td>4520.0</td>\n",
              "      <td>1.843584</td>\n",
              "      <td>0.839975</td>\n",
              "      <td>1.0</td>\n",
              "      <td>1.00</td>\n",
              "      <td>2.0</td>\n",
              "      <td>3.00</td>\n",
              "      <td>3.0</td>\n",
              "    </tr>\n",
              "    <tr>\n",
              "      <th>Mortgage</th>\n",
              "      <td>4520.0</td>\n",
              "      <td>51.789381</td>\n",
              "      <td>92.038931</td>\n",
              "      <td>0.0</td>\n",
              "      <td>0.00</td>\n",
              "      <td>0.0</td>\n",
              "      <td>98.00</td>\n",
              "      <td>635.0</td>\n",
              "    </tr>\n",
              "    <tr>\n",
              "      <th>Personal Loan</th>\n",
              "      <td>4520.0</td>\n",
              "      <td>0.000000</td>\n",
              "      <td>0.000000</td>\n",
              "      <td>0.0</td>\n",
              "      <td>0.00</td>\n",
              "      <td>0.0</td>\n",
              "      <td>0.00</td>\n",
              "      <td>0.0</td>\n",
              "    </tr>\n",
              "    <tr>\n",
              "      <th>Securities Account</th>\n",
              "      <td>4520.0</td>\n",
              "      <td>0.102212</td>\n",
              "      <td>0.302961</td>\n",
              "      <td>0.0</td>\n",
              "      <td>0.00</td>\n",
              "      <td>0.0</td>\n",
              "      <td>0.00</td>\n",
              "      <td>1.0</td>\n",
              "    </tr>\n",
              "    <tr>\n",
              "      <th>CD Account</th>\n",
              "      <td>4520.0</td>\n",
              "      <td>0.035841</td>\n",
              "      <td>0.185913</td>\n",
              "      <td>0.0</td>\n",
              "      <td>0.00</td>\n",
              "      <td>0.0</td>\n",
              "      <td>0.00</td>\n",
              "      <td>1.0</td>\n",
              "    </tr>\n",
              "    <tr>\n",
              "      <th>Online</th>\n",
              "      <td>4520.0</td>\n",
              "      <td>0.595796</td>\n",
              "      <td>0.490792</td>\n",
              "      <td>0.0</td>\n",
              "      <td>0.00</td>\n",
              "      <td>1.0</td>\n",
              "      <td>1.00</td>\n",
              "      <td>1.0</td>\n",
              "    </tr>\n",
              "    <tr>\n",
              "      <th>CreditCard</th>\n",
              "      <td>4520.0</td>\n",
              "      <td>0.293584</td>\n",
              "      <td>0.455454</td>\n",
              "      <td>0.0</td>\n",
              "      <td>0.00</td>\n",
              "      <td>0.0</td>\n",
              "      <td>1.00</td>\n",
              "      <td>1.0</td>\n",
              "    </tr>\n",
              "  </tbody>\n",
              "</table>\n",
              "</div>"
            ],
            "text/plain": [
              "                     count          mean          std     min       25%  \\\n",
              "ID                  4520.0   2512.165487  1448.299331     1.0   1259.75   \n",
              "Age                 4520.0     45.367257    11.450427    23.0     35.00   \n",
              "Experience          4520.0     20.132301    11.456672    -3.0     10.00   \n",
              "Income              4520.0     66.237389    40.578534     8.0     35.00   \n",
              "ZIP Code            4520.0  93152.428761  2156.949654  9307.0  91911.00   \n",
              "Family              4520.0      2.373451     1.148771     1.0      1.00   \n",
              "CCAvg               4520.0      1.729009     1.567647     0.0      0.60   \n",
              "Education           4520.0      1.843584     0.839975     1.0      1.00   \n",
              "Mortgage            4520.0     51.789381    92.038931     0.0      0.00   \n",
              "Personal Loan       4520.0      0.000000     0.000000     0.0      0.00   \n",
              "Securities Account  4520.0      0.102212     0.302961     0.0      0.00   \n",
              "CD Account          4520.0      0.035841     0.185913     0.0      0.00   \n",
              "Online              4520.0      0.595796     0.490792     0.0      0.00   \n",
              "CreditCard          4520.0      0.293584     0.455454     0.0      0.00   \n",
              "\n",
              "                        50%       75%      max  \n",
              "ID                   2518.5   3768.25   5000.0  \n",
              "Age                    45.0     55.00     67.0  \n",
              "Experience             20.0     30.00     43.0  \n",
              "Income                 59.0     84.00    224.0  \n",
              "ZIP Code            93437.0  94608.00  96651.0  \n",
              "Family                  2.0      3.00      4.0  \n",
              "CCAvg                   1.4      2.30      8.8  \n",
              "Education               2.0      3.00      3.0  \n",
              "Mortgage                0.0     98.00    635.0  \n",
              "Personal Loan           0.0      0.00      0.0  \n",
              "Securities Account      0.0      0.00      1.0  \n",
              "CD Account              0.0      0.00      1.0  \n",
              "Online                  1.0      1.00      1.0  \n",
              "CreditCard              0.0      1.00      1.0  "
            ]
          },
          "execution_count": 357,
          "metadata": {},
          "output_type": "execute_result"
        }
      ],
      "source": [
        "no_personal_loans.describe().T"
      ]
    },
    {
      "cell_type": "code",
      "execution_count": null,
      "id": "shared-abortion",
      "metadata": {
        "id": "shared-abortion"
      },
      "outputs": [],
      "source": [
        "#ISSUE_3 - create distplot for income from both dataframes in one common plot\n",
        "\n"
      ]
    },
    {
      "cell_type": "code",
      "execution_count": null,
      "id": "compressed-brazilian",
      "metadata": {
        "id": "compressed-brazilian"
      },
      "outputs": [],
      "source": [
        "#ISSUE_4 - confusion matrix for common orginal dataframe\n",
        "\n"
      ]
    },
    {
      "cell_type": "code",
      "execution_count": null,
      "id": "final-buddy",
      "metadata": {
        "id": "final-buddy"
      },
      "outputs": [],
      "source": [
        "#ISSUE_5 - distribution of average credit card spending (from bank_df use distplot)\n",
        "plt.figure(figsize=(10, 6)) #figure size\n",
        "sns.displot(bank_df['CCAvg'], kde=True, bins=20, color='blue')   #distplot is a deprecated function, thus used displot\n",
        "#(column name, kde: adds density curve, bins: sets number of bins, color)\n",
        "\n",
        "# Add title \n",
        "plt.title('Distribution of Average Credit Card Spending')\n",
        "plt.xlabel('Average Credit Card Spending')\n",
        "\n",
        "#Add labels\n",
        "plt.ylabel('Frequency')\n",
        "\n",
        "# Display the plot\n",
        "plt.show()"
      ]
    },
    {
      "cell_type": "code",
      "execution_count": null,
      "id": "crude-yemen",
      "metadata": {
        "id": "crude-yemen"
      },
      "outputs": [],
      "source": [
        "#ISSUE_6 - distribution of average credit card spending for both personal and without personal loan in one distplot"
      ]
    },
    {
      "cell_type": "markdown",
      "id": "shaped-gospel",
      "metadata": {
        "id": "shaped-gospel"
      },
      "source": [
        "## Data Preparation"
      ]
    },
    {
      "cell_type": "code",
      "execution_count": null,
      "id": "sunrise-mapping",
      "metadata": {
        "id": "sunrise-mapping"
      },
      "outputs": [],
      "source": [
        "from tensorflow.keras.utils import to_categorical\n",
        "\n",
        "X = bank_df.drop(columns=[\"Personal Loan\"])\n",
        "y = bank_df[\"Personal Loan\"]\n",
        "\n",
        "y = to_categorical(y)"
      ]
    },
    {
      "cell_type": "code",
      "execution_count": null,
      "id": "floral-saint",
      "metadata": {
        "id": "floral-saint",
        "outputId": "18a158c6-4cd8-4009-ee57-4ae1c47a5034"
      },
      "outputs": [
        {
          "data": {
            "text/plain": [
              "((4500, 13), (500, 13), (4500, 2), (500, 2))"
            ]
          },
          "execution_count": 363,
          "metadata": {},
          "output_type": "execute_result"
        }
      ],
      "source": [
        "#ISSUE_7 - split data test and train , then use standard scaler on input values"
      ]
    },
    {
      "cell_type": "markdown",
      "id": "diagnostic-walnut",
      "metadata": {
        "id": "diagnostic-walnut"
      },
      "source": [
        "## Building a multi-layer neural network model"
      ]
    },
    {
      "cell_type": "code",
      "execution_count": null,
      "id": "3yRjaBAttnqH",
      "metadata": {
        "id": "3yRjaBAttnqH"
      },
      "outputs": [],
      "source": [
        "#ISSUE_8 - build ann (artificial neural network)\n",
        "# sequential model\n",
        "\n",
        "\n",
        "# adding dense layer\n",
        "\n",
        "\n",
        "# adding dense layer with softmax activation/output layer\n",
        "\n",
        "ann_model.summary()"
      ]
    },
    {
      "cell_type": "markdown",
      "id": "failing-hawaii",
      "metadata": {
        "id": "failing-hawaii"
      },
      "source": [
        "## Compilation and training of deep learning model"
      ]
    },
    {
      "cell_type": "code",
      "execution_count": null,
      "id": "optional-scotland",
      "metadata": {
        "id": "optional-scotland"
      },
      "outputs": [],
      "source": [
        "# custom functions for f1, precision and recall\n",
        "\n",
        "from keras import backend as K\n",
        "\n",
        "def recall_m(y_true, y_pred):\n",
        "    true_positives = K.sum(K.round(K.clip(y_true * y_pred, 0, 1)))\n",
        "    possible_positives = K.sum(K.round(K.clip(y_true, 0, 1)))\n",
        "    recall = true_positives / (possible_positives + K.epsilon())\n",
        "    return recall\n",
        "\n",
        "def precision_m(y_true, y_pred):\n",
        "    true_positives = K.sum(K.round(K.clip(y_true * y_pred, 0, 1)))\n",
        "    predicted_positives = K.sum(K.round(K.clip(y_pred, 0, 1)))\n",
        "    precision = true_positives / (predicted_positives + K.epsilon())\n",
        "    return precision\n",
        "\n",
        "def f1_m(y_true, y_pred):\n",
        "    precision = precision_m(y_true, y_pred)\n",
        "    recall = recall_m(y_true, y_pred)\n",
        "    return 2*((precision*recall)/(precision+recall+K.epsilon()))"
      ]
    },
    {
      "cell_type": "code",
      "execution_count": null,
      "id": "accredited-spending",
      "metadata": {
        "id": "accredited-spending"
      },
      "outputs": [],
      "source": [
        "ann_model.compile(loss='categorical_crossentropy', optimizer='adam', metrics=[f1_m]) # metrics=['accuracy']"
      ]
    },
    {
      "cell_type": "code",
      "execution_count": null,
      "id": "rolled-inquiry",
      "metadata": {
        "id": "rolled-inquiry"
      },
      "outputs": [],
      "source": [
        "history = ann_model.fit(X_train, y_train, epochs=20, validation_split=0.2, verbose=1)"
      ]
    },
    {
      "cell_type": "code",
      "execution_count": null,
      "id": "incorporate-fleet",
      "metadata": {
        "id": "incorporate-fleet"
      },
      "outputs": [],
      "source": [
        "#ISSUE_9 - Plot the model performance across epochs\n",
        "\n"
      ]
    },
    {
      "cell_type": "markdown",
      "id": "adapted-royalty",
      "metadata": {
        "id": "adapted-royalty"
      },
      "source": [
        "## Evaluating model performance"
      ]
    },
    {
      "cell_type": "code",
      "execution_count": null,
      "id": "operational-degree",
      "metadata": {
        "id": "operational-degree",
        "outputId": "b412258d-28f2-45a7-ea38-ec19a7dd40c2"
      },
      "outputs": [
        {
          "name": "stdout",
          "output_type": "stream",
          "text": [
            "16/16 [==============================] - 0s 2ms/step\n"
          ]
        }
      ],
      "source": [
        "predictions = ann_model.predict(X_test)\n",
        "predict = []\n",
        "\n",
        "for i in predictions:\n",
        "    predict.append(np.argmax(i))"
      ]
    },
    {
      "cell_type": "code",
      "execution_count": null,
      "id": "injured-central",
      "metadata": {
        "id": "injured-central",
        "outputId": "a6cc4b7c-ee0f-4fb3-c5d5-1ca57cd515cf"
      },
      "outputs": [
        {
          "name": "stdout",
          "output_type": "stream",
          "text": [
            "F1 Score: 0.9217.\n",
            "Precision: 0.9636.\n",
            "Recall: 0.8833.\n",
            "Accuracy: 0.9820.\n"
          ]
        }
      ],
      "source": [
        "from sklearn import metrics\n",
        "y_test = np.argmax(y_test, axis=1)\n",
        "\n",
        "f1_test = metrics.f1_score(y_test, predict)\n",
        "prec = metrics.precision_score(y_test, predict)\n",
        "rec = metrics.recall_score(y_test, predict)\n",
        "acc = metrics.accuracy_score(y_test, predict)\n",
        "\n",
        "print (\"F1 Score: {:.4f}.\".format(f1_test))\n",
        "print (\"Precision: {:.4f}.\".format(prec))\n",
        "print (\"Recall: {:.4f}.\".format(rec))\n",
        "print (\"Accuracy: {:.4f}.\".format(acc))"
      ]
    },
    {
      "cell_type": "code",
      "execution_count": null,
      "id": "incident-pulse",
      "metadata": {
        "id": "incident-pulse"
      },
      "outputs": [],
      "source": [
        "#ISSUE_10 - confusion matrix"
      ]
    },
    {
      "cell_type": "code",
      "execution_count": null,
      "id": "mature-trademark",
      "metadata": {
        "id": "mature-trademark",
        "outputId": "67abb662-6688-4a04-f328-b7114ee58a1c"
      },
      "outputs": [
        {
          "name": "stdout",
          "output_type": "stream",
          "text": [
            "              precision    recall  f1-score   support\n",
            "\n",
            "           0       0.98      1.00      0.99       440\n",
            "           1       0.96      0.88      0.92        60\n",
            "\n",
            "    accuracy                           0.98       500\n",
            "   macro avg       0.97      0.94      0.96       500\n",
            "weighted avg       0.98      0.98      0.98       500\n",
            "\n"
          ]
        }
      ],
      "source": [
        "print(metrics.classification_report(y_test, predict))"
      ]
    }
  ],
  "metadata": {
    "colab": {
      "provenance": []
    },
    "kernelspec": {
      "display_name": "Python 3",
      "language": "python",
      "name": "python3"
    },
    "language_info": {
      "codemirror_mode": {
        "name": "ipython",
        "version": 3
      },
      "file_extension": ".py",
      "mimetype": "text/x-python",
      "name": "python",
      "nbconvert_exporter": "python",
      "pygments_lexer": "ipython3",
      "version": "3.12.4"
    },
    "vscode": {
      "interpreter": {
        "hash": "45899fa507a1304a3c6b832619928507c52e1988c6511a7c9c5f49ebe874162e"
      }
    }
  },
  "nbformat": 4,
  "nbformat_minor": 5
}
